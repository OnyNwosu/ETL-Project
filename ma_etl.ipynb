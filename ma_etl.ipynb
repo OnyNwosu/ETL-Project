{
 "metadata": {
  "language_info": {
   "codemirror_mode": {
    "name": "ipython",
    "version": 3
   },
   "file_extension": ".py",
   "mimetype": "text/x-python",
   "name": "python",
   "nbconvert_exporter": "python",
   "pygments_lexer": "ipython3",
   "version": "3.6.10"
  },
  "orig_nbformat": 2,
  "kernelspec": {
   "name": "python3610jvsc74a57bd04d1346429681e2901940cfbc6d3aa8e0961654b88e69dffdbf3524e675148f21",
   "display_name": "Python 3.6.10 64-bit ('DataBootCamp': conda)"
  }
 },
 "nbformat": 4,
 "nbformat_minor": 2,
 "cells": [
  {
   "source": [
    "# Cases cleanup"
   ],
   "cell_type": "markdown",
   "metadata": {}
  },
  {
   "cell_type": "code",
   "execution_count": 36,
   "metadata": {},
   "outputs": [],
   "source": [
    "import pandas as pd\n",
    "from sqlalchemy import create_engine"
   ]
  },
  {
   "cell_type": "code",
   "execution_count": 3,
   "metadata": {},
   "outputs": [
    {
     "output_type": "execute_result",
     "data": {
      "text/plain": [
       "        date      country  cumulative_total_cases  daily_new_cases  \\\n",
       "0  2020-2-15  Afghanistan                     0.0              NaN   \n",
       "1  2020-2-16  Afghanistan                     0.0              NaN   \n",
       "2  2020-2-17  Afghanistan                     0.0              NaN   \n",
       "3  2020-2-18  Afghanistan                     0.0              NaN   \n",
       "4  2020-2-19  Afghanistan                     0.0              NaN   \n",
       "\n",
       "   active_cases  cumulative_total_deaths  daily_new_deaths  \n",
       "0           0.0                      0.0               NaN  \n",
       "1           0.0                      0.0               NaN  \n",
       "2           0.0                      0.0               NaN  \n",
       "3           0.0                      0.0               NaN  \n",
       "4           0.0                      0.0               NaN  "
      ],
      "text/html": "<div>\n<style scoped>\n    .dataframe tbody tr th:only-of-type {\n        vertical-align: middle;\n    }\n\n    .dataframe tbody tr th {\n        vertical-align: top;\n    }\n\n    .dataframe thead th {\n        text-align: right;\n    }\n</style>\n<table border=\"1\" class=\"dataframe\">\n  <thead>\n    <tr style=\"text-align: right;\">\n      <th></th>\n      <th>date</th>\n      <th>country</th>\n      <th>cumulative_total_cases</th>\n      <th>daily_new_cases</th>\n      <th>active_cases</th>\n      <th>cumulative_total_deaths</th>\n      <th>daily_new_deaths</th>\n    </tr>\n  </thead>\n  <tbody>\n    <tr>\n      <th>0</th>\n      <td>2020-2-15</td>\n      <td>Afghanistan</td>\n      <td>0.0</td>\n      <td>NaN</td>\n      <td>0.0</td>\n      <td>0.0</td>\n      <td>NaN</td>\n    </tr>\n    <tr>\n      <th>1</th>\n      <td>2020-2-16</td>\n      <td>Afghanistan</td>\n      <td>0.0</td>\n      <td>NaN</td>\n      <td>0.0</td>\n      <td>0.0</td>\n      <td>NaN</td>\n    </tr>\n    <tr>\n      <th>2</th>\n      <td>2020-2-17</td>\n      <td>Afghanistan</td>\n      <td>0.0</td>\n      <td>NaN</td>\n      <td>0.0</td>\n      <td>0.0</td>\n      <td>NaN</td>\n    </tr>\n    <tr>\n      <th>3</th>\n      <td>2020-2-18</td>\n      <td>Afghanistan</td>\n      <td>0.0</td>\n      <td>NaN</td>\n      <td>0.0</td>\n      <td>0.0</td>\n      <td>NaN</td>\n    </tr>\n    <tr>\n      <th>4</th>\n      <td>2020-2-19</td>\n      <td>Afghanistan</td>\n      <td>0.0</td>\n      <td>NaN</td>\n      <td>0.0</td>\n      <td>0.0</td>\n      <td>NaN</td>\n    </tr>\n  </tbody>\n</table>\n</div>"
     },
     "metadata": {},
     "execution_count": 3
    }
   ],
   "source": [
    "cases_csv = 'Resources/worldometer_coronavirus_daily_data.csv'\n",
    "cases_df = pd.read_csv(cases_csv)\n",
    "cases_df.head()"
   ]
  },
  {
   "cell_type": "code",
   "execution_count": 4,
   "metadata": {},
   "outputs": [
    {
     "output_type": "execute_result",
     "data": {
      "text/plain": [
       "  Rank Country(or dependent territory)  Population % of world         Date  \\\n",
       "0    1                        China[b]  1407751040        NaN   1 May 2021   \n",
       "1    2                        India[c]  1376399054        NaN   1 May 2021   \n",
       "2    3                United States[d]   331449281        NaN   1 Apr 2020   \n",
       "3    4                       Indonesia   271350000        NaN  31 Dec 2020   \n",
       "4    5                     Pakistan[e]   225200000        NaN   1 Jul 2021   \n",
       "\n",
       "  Source(official or United Nations)  \n",
       "0       National population clock[3]  \n",
       "1       National population clock[4]  \n",
       "2              2020 census result[5]  \n",
       "3        National annual estimate[6]  \n",
       "4                   UN projection[2]  "
      ],
      "text/html": "<div>\n<style scoped>\n    .dataframe tbody tr th:only-of-type {\n        vertical-align: middle;\n    }\n\n    .dataframe tbody tr th {\n        vertical-align: top;\n    }\n\n    .dataframe thead th {\n        text-align: right;\n    }\n</style>\n<table border=\"1\" class=\"dataframe\">\n  <thead>\n    <tr style=\"text-align: right;\">\n      <th></th>\n      <th>Rank</th>\n      <th>Country(or dependent territory)</th>\n      <th>Population</th>\n      <th>% of world</th>\n      <th>Date</th>\n      <th>Source(official or United Nations)</th>\n    </tr>\n  </thead>\n  <tbody>\n    <tr>\n      <th>0</th>\n      <td>1</td>\n      <td>China[b]</td>\n      <td>1407751040</td>\n      <td>NaN</td>\n      <td>1 May 2021</td>\n      <td>National population clock[3]</td>\n    </tr>\n    <tr>\n      <th>1</th>\n      <td>2</td>\n      <td>India[c]</td>\n      <td>1376399054</td>\n      <td>NaN</td>\n      <td>1 May 2021</td>\n      <td>National population clock[4]</td>\n    </tr>\n    <tr>\n      <th>2</th>\n      <td>3</td>\n      <td>United States[d]</td>\n      <td>331449281</td>\n      <td>NaN</td>\n      <td>1 Apr 2020</td>\n      <td>2020 census result[5]</td>\n    </tr>\n    <tr>\n      <th>3</th>\n      <td>4</td>\n      <td>Indonesia</td>\n      <td>271350000</td>\n      <td>NaN</td>\n      <td>31 Dec 2020</td>\n      <td>National annual estimate[6]</td>\n    </tr>\n    <tr>\n      <th>4</th>\n      <td>5</td>\n      <td>Pakistan[e]</td>\n      <td>225200000</td>\n      <td>NaN</td>\n      <td>1 Jul 2021</td>\n      <td>UN projection[2]</td>\n    </tr>\n  </tbody>\n</table>\n</div>"
     },
     "metadata": {},
     "execution_count": 4
    }
   ],
   "source": [
    "population_url = 'https://en.wikipedia.org/wiki/List_of_countries_and_dependencies_by_population'\n",
    "tables = pd.read_html(population_url)\n",
    "populations_df = tables[0]\n",
    "populations_df.head()"
   ]
  },
  {
   "cell_type": "code",
   "execution_count": 5,
   "metadata": {},
   "outputs": [],
   "source": [
    "populations_df.rename(columns={'Country(or dependent territory)': 'country', 'Population':'population'}, inplace=True)\n",
    "populations_df = populations_df[['country', 'population']]\n"
   ]
  },
  {
   "cell_type": "code",
   "execution_count": 6,
   "metadata": {},
   "outputs": [
    {
     "output_type": "execute_result",
     "data": {
      "text/plain": [
       "            country  population\n",
       "0          China[b]  1407751040\n",
       "1          India[c]  1376399054\n",
       "2  United States[d]   331449281\n",
       "3         Indonesia   271350000\n",
       "4       Pakistan[e]   225200000"
      ],
      "text/html": "<div>\n<style scoped>\n    .dataframe tbody tr th:only-of-type {\n        vertical-align: middle;\n    }\n\n    .dataframe tbody tr th {\n        vertical-align: top;\n    }\n\n    .dataframe thead th {\n        text-align: right;\n    }\n</style>\n<table border=\"1\" class=\"dataframe\">\n  <thead>\n    <tr style=\"text-align: right;\">\n      <th></th>\n      <th>country</th>\n      <th>population</th>\n    </tr>\n  </thead>\n  <tbody>\n    <tr>\n      <th>0</th>\n      <td>China[b]</td>\n      <td>1407751040</td>\n    </tr>\n    <tr>\n      <th>1</th>\n      <td>India[c]</td>\n      <td>1376399054</td>\n    </tr>\n    <tr>\n      <th>2</th>\n      <td>United States[d]</td>\n      <td>331449281</td>\n    </tr>\n    <tr>\n      <th>3</th>\n      <td>Indonesia</td>\n      <td>271350000</td>\n    </tr>\n    <tr>\n      <th>4</th>\n      <td>Pakistan[e]</td>\n      <td>225200000</td>\n    </tr>\n  </tbody>\n</table>\n</div>"
     },
     "metadata": {},
     "execution_count": 6
    }
   ],
   "source": [
    "populations_df.head()"
   ]
  },
  {
   "cell_type": "code",
   "execution_count": 7,
   "metadata": {},
   "outputs": [],
   "source": [
    "for country in populations_df['country']:\n",
    "    temp = country.split('[',1)[0]\n",
    "    temp = temp.split('(',1)[0]\n",
    "    country = temp"
   ]
  },
  {
   "cell_type": "code",
   "execution_count": 8,
   "metadata": {},
   "outputs": [
    {
     "output_type": "execute_result",
     "data": {
      "text/plain": [
       "                 country  population\n",
       "184          Abkhazia[y]      245424\n",
       "42           Afghanistan    32890171\n",
       "137              Albania     2845955\n",
       "31               Algeria    44700000\n",
       "207  American Samoa (US)       56951"
      ],
      "text/html": "<div>\n<style scoped>\n    .dataframe tbody tr th:only-of-type {\n        vertical-align: middle;\n    }\n\n    .dataframe tbody tr th {\n        vertical-align: top;\n    }\n\n    .dataframe thead th {\n        text-align: right;\n    }\n</style>\n<table border=\"1\" class=\"dataframe\">\n  <thead>\n    <tr style=\"text-align: right;\">\n      <th></th>\n      <th>country</th>\n      <th>population</th>\n    </tr>\n  </thead>\n  <tbody>\n    <tr>\n      <th>184</th>\n      <td>Abkhazia[y]</td>\n      <td>245424</td>\n    </tr>\n    <tr>\n      <th>42</th>\n      <td>Afghanistan</td>\n      <td>32890171</td>\n    </tr>\n    <tr>\n      <th>137</th>\n      <td>Albania</td>\n      <td>2845955</td>\n    </tr>\n    <tr>\n      <th>31</th>\n      <td>Algeria</td>\n      <td>44700000</td>\n    </tr>\n    <tr>\n      <th>207</th>\n      <td>American Samoa (US)</td>\n      <td>56951</td>\n    </tr>\n  </tbody>\n</table>\n</div>"
     },
     "metadata": {},
     "execution_count": 8
    }
   ],
   "source": [
    "populations_df = populations_df.sort_values('country')\n",
    "populations_df.head()"
   ]
  },
  {
   "cell_type": "code",
   "execution_count": 9,
   "metadata": {},
   "outputs": [],
   "source": [
    "cases_df = cases_df.merge(populations_df, how='inner', on='country')"
   ]
  },
  {
   "cell_type": "code",
   "execution_count": 10,
   "metadata": {},
   "outputs": [],
   "source": [
    "cases_df.rename(columns={'cumulative_total_cases': 'total_cases','cumulative_total_deaths': 'total_deaths'}, inplace=True)\n",
    "cases_df = cases_df[['date', 'country', 'total_cases', 'active_cases', 'total_deaths', 'population']]"
   ]
  },
  {
   "cell_type": "code",
   "execution_count": 11,
   "metadata": {},
   "outputs": [
    {
     "output_type": "execute_result",
     "data": {
      "text/plain": [
       "        date      country  total_cases  active_cases  total_deaths  population\n",
       "0  2020-2-15  Afghanistan          0.0           0.0           0.0    32890171\n",
       "1  2020-2-16  Afghanistan          0.0           0.0           0.0    32890171\n",
       "2  2020-2-17  Afghanistan          0.0           0.0           0.0    32890171\n",
       "3  2020-2-18  Afghanistan          0.0           0.0           0.0    32890171\n",
       "4  2020-2-19  Afghanistan          0.0           0.0           0.0    32890171"
      ],
      "text/html": "<div>\n<style scoped>\n    .dataframe tbody tr th:only-of-type {\n        vertical-align: middle;\n    }\n\n    .dataframe tbody tr th {\n        vertical-align: top;\n    }\n\n    .dataframe thead th {\n        text-align: right;\n    }\n</style>\n<table border=\"1\" class=\"dataframe\">\n  <thead>\n    <tr style=\"text-align: right;\">\n      <th></th>\n      <th>date</th>\n      <th>country</th>\n      <th>total_cases</th>\n      <th>active_cases</th>\n      <th>total_deaths</th>\n      <th>population</th>\n    </tr>\n  </thead>\n  <tbody>\n    <tr>\n      <th>0</th>\n      <td>2020-2-15</td>\n      <td>Afghanistan</td>\n      <td>0.0</td>\n      <td>0.0</td>\n      <td>0.0</td>\n      <td>32890171</td>\n    </tr>\n    <tr>\n      <th>1</th>\n      <td>2020-2-16</td>\n      <td>Afghanistan</td>\n      <td>0.0</td>\n      <td>0.0</td>\n      <td>0.0</td>\n      <td>32890171</td>\n    </tr>\n    <tr>\n      <th>2</th>\n      <td>2020-2-17</td>\n      <td>Afghanistan</td>\n      <td>0.0</td>\n      <td>0.0</td>\n      <td>0.0</td>\n      <td>32890171</td>\n    </tr>\n    <tr>\n      <th>3</th>\n      <td>2020-2-18</td>\n      <td>Afghanistan</td>\n      <td>0.0</td>\n      <td>0.0</td>\n      <td>0.0</td>\n      <td>32890171</td>\n    </tr>\n    <tr>\n      <th>4</th>\n      <td>2020-2-19</td>\n      <td>Afghanistan</td>\n      <td>0.0</td>\n      <td>0.0</td>\n      <td>0.0</td>\n      <td>32890171</td>\n    </tr>\n  </tbody>\n</table>\n</div>"
     },
     "metadata": {},
     "execution_count": 11
    }
   ],
   "source": [
    "cases_df.head()"
   ]
  },
  {
   "cell_type": "code",
   "execution_count": 12,
   "metadata": {},
   "outputs": [],
   "source": [
    "unique = cases_df.drop_duplicates('country')"
   ]
  },
  {
   "cell_type": "code",
   "execution_count": 13,
   "metadata": {},
   "outputs": [],
   "source": [
    "populations_df = pd.DataFrame({\n",
    "    'country' : unique.country,\n",
    "    'population' : unique.population\n",
    "})"
   ]
  },
  {
   "cell_type": "code",
   "execution_count": 14,
   "metadata": {},
   "outputs": [],
   "source": [
    "cases_df.drop(columns='population', inplace=True)"
   ]
  },
  {
   "cell_type": "code",
   "execution_count": 15,
   "metadata": {},
   "outputs": [
    {
     "output_type": "execute_result",
     "data": {
      "text/plain": [
       "          country  population\n",
       "0     Afghanistan    32890171\n",
       "435       Albania     2845955\n",
       "870       Algeria    44700000\n",
       "1305      Andorra       78015\n",
       "1740       Angola    32097671"
      ],
      "text/html": "<div>\n<style scoped>\n    .dataframe tbody tr th:only-of-type {\n        vertical-align: middle;\n    }\n\n    .dataframe tbody tr th {\n        vertical-align: top;\n    }\n\n    .dataframe thead th {\n        text-align: right;\n    }\n</style>\n<table border=\"1\" class=\"dataframe\">\n  <thead>\n    <tr style=\"text-align: right;\">\n      <th></th>\n      <th>country</th>\n      <th>population</th>\n    </tr>\n  </thead>\n  <tbody>\n    <tr>\n      <th>0</th>\n      <td>Afghanistan</td>\n      <td>32890171</td>\n    </tr>\n    <tr>\n      <th>435</th>\n      <td>Albania</td>\n      <td>2845955</td>\n    </tr>\n    <tr>\n      <th>870</th>\n      <td>Algeria</td>\n      <td>44700000</td>\n    </tr>\n    <tr>\n      <th>1305</th>\n      <td>Andorra</td>\n      <td>78015</td>\n    </tr>\n    <tr>\n      <th>1740</th>\n      <td>Angola</td>\n      <td>32097671</td>\n    </tr>\n  </tbody>\n</table>\n</div>"
     },
     "metadata": {},
     "execution_count": 15
    }
   ],
   "source": [
    "populations_df.head()"
   ]
  },
  {
   "cell_type": "code",
   "execution_count": 16,
   "metadata": {},
   "outputs": [
    {
     "output_type": "execute_result",
     "data": {
      "text/plain": [
       "       country  population\n",
       "0  Afghanistan    32890171\n",
       "1      Albania     2845955\n",
       "2      Algeria    44700000\n",
       "3      Andorra       78015\n",
       "4       Angola    32097671"
      ],
      "text/html": "<div>\n<style scoped>\n    .dataframe tbody tr th:only-of-type {\n        vertical-align: middle;\n    }\n\n    .dataframe tbody tr th {\n        vertical-align: top;\n    }\n\n    .dataframe thead th {\n        text-align: right;\n    }\n</style>\n<table border=\"1\" class=\"dataframe\">\n  <thead>\n    <tr style=\"text-align: right;\">\n      <th></th>\n      <th>country</th>\n      <th>population</th>\n    </tr>\n  </thead>\n  <tbody>\n    <tr>\n      <th>0</th>\n      <td>Afghanistan</td>\n      <td>32890171</td>\n    </tr>\n    <tr>\n      <th>1</th>\n      <td>Albania</td>\n      <td>2845955</td>\n    </tr>\n    <tr>\n      <th>2</th>\n      <td>Algeria</td>\n      <td>44700000</td>\n    </tr>\n    <tr>\n      <th>3</th>\n      <td>Andorra</td>\n      <td>78015</td>\n    </tr>\n    <tr>\n      <th>4</th>\n      <td>Angola</td>\n      <td>32097671</td>\n    </tr>\n  </tbody>\n</table>\n</div>"
     },
     "metadata": {},
     "execution_count": 16
    }
   ],
   "source": [
    "populations_df.reset_index(drop=True, inplace=True)\n",
    "populations_df.head()"
   ]
  },
  {
   "source": [
    "# Vaccines"
   ],
   "cell_type": "markdown",
   "metadata": {}
  },
  {
   "cell_type": "code",
   "execution_count": 17,
   "metadata": {},
   "outputs": [
    {
     "output_type": "execute_result",
     "data": {
      "text/plain": [
       "  location        date          vaccine  total_vaccinations\n",
       "0    Chile  2020-12-24  Pfizer/BioNTech                 420\n",
       "1    Chile  2020-12-25  Pfizer/BioNTech                5198\n",
       "2    Chile  2020-12-26  Pfizer/BioNTech                8338\n",
       "3    Chile  2020-12-27  Pfizer/BioNTech                8649\n",
       "4    Chile  2020-12-28  Pfizer/BioNTech                8649"
      ],
      "text/html": "<div>\n<style scoped>\n    .dataframe tbody tr th:only-of-type {\n        vertical-align: middle;\n    }\n\n    .dataframe tbody tr th {\n        vertical-align: top;\n    }\n\n    .dataframe thead th {\n        text-align: right;\n    }\n</style>\n<table border=\"1\" class=\"dataframe\">\n  <thead>\n    <tr style=\"text-align: right;\">\n      <th></th>\n      <th>location</th>\n      <th>date</th>\n      <th>vaccine</th>\n      <th>total_vaccinations</th>\n    </tr>\n  </thead>\n  <tbody>\n    <tr>\n      <th>0</th>\n      <td>Chile</td>\n      <td>2020-12-24</td>\n      <td>Pfizer/BioNTech</td>\n      <td>420</td>\n    </tr>\n    <tr>\n      <th>1</th>\n      <td>Chile</td>\n      <td>2020-12-25</td>\n      <td>Pfizer/BioNTech</td>\n      <td>5198</td>\n    </tr>\n    <tr>\n      <th>2</th>\n      <td>Chile</td>\n      <td>2020-12-26</td>\n      <td>Pfizer/BioNTech</td>\n      <td>8338</td>\n    </tr>\n    <tr>\n      <th>3</th>\n      <td>Chile</td>\n      <td>2020-12-27</td>\n      <td>Pfizer/BioNTech</td>\n      <td>8649</td>\n    </tr>\n    <tr>\n      <th>4</th>\n      <td>Chile</td>\n      <td>2020-12-28</td>\n      <td>Pfizer/BioNTech</td>\n      <td>8649</td>\n    </tr>\n  </tbody>\n</table>\n</div>"
     },
     "metadata": {},
     "execution_count": 17
    }
   ],
   "source": [
    "vax_csv = 'Resources/country_vaccinations_by_manufacturer.csv'\n",
    "vax_man_df = pd.read_csv(vax_csv)\n",
    "vax_man_df.head()"
   ]
  },
  {
   "cell_type": "code",
   "execution_count": 18,
   "metadata": {},
   "outputs": [],
   "source": [
    "manufacturers = {\n",
    "    'Pfizer/BioNTech' : ['PFZR'],\n",
    "    'Sinovac' : ['SNVC'],\n",
    "    'Moderna' : ['MDRN'],\n",
    "    'Oxford/AstraZeneca' : ['OXFD'],\n",
    "    'Johnson&Johnson' : ['JSJS']\n",
    "    }"
   ]
  },
  {
   "cell_type": "code",
   "execution_count": 19,
   "metadata": {},
   "outputs": [],
   "source": [
    "vax_man_df.replace(manufacturers, inplace=True)\n",
    "vax_man_df.rename(columns={'vaccine': 'manufacturer_id'}, inplace=True)"
   ]
  },
  {
   "cell_type": "code",
   "execution_count": 20,
   "metadata": {},
   "outputs": [],
   "source": [
    "vax_man_df.rename(columns={'location':'country'}, inplace=True)"
   ]
  },
  {
   "cell_type": "code",
   "execution_count": 21,
   "metadata": {},
   "outputs": [],
   "source": [
    "manuf_df = pd.DataFrame(manufacturers).T"
   ]
  },
  {
   "cell_type": "code",
   "execution_count": 22,
   "metadata": {},
   "outputs": [],
   "source": [
    "manuf_df.reset_index(inplace=True)"
   ]
  },
  {
   "cell_type": "code",
   "execution_count": 23,
   "metadata": {},
   "outputs": [],
   "source": [
    "manuf_df.rename(columns={\n",
    "    'index' : 'manufacturer_name',\n",
    "    0 : 'manufacturer_id'\n",
    "}, inplace=True)"
   ]
  },
  {
   "cell_type": "code",
   "execution_count": 24,
   "metadata": {},
   "outputs": [
    {
     "output_type": "execute_result",
     "data": {
      "text/plain": [
       "    manufacturer_name manufacturer_id\n",
       "0     Pfizer/BioNTech            PFZR\n",
       "1             Sinovac            SNVC\n",
       "2             Moderna            MDRN\n",
       "3  Oxford/AstraZeneca            OXFD\n",
       "4     Johnson&Johnson            JSJS"
      ],
      "text/html": "<div>\n<style scoped>\n    .dataframe tbody tr th:only-of-type {\n        vertical-align: middle;\n    }\n\n    .dataframe tbody tr th {\n        vertical-align: top;\n    }\n\n    .dataframe thead th {\n        text-align: right;\n    }\n</style>\n<table border=\"1\" class=\"dataframe\">\n  <thead>\n    <tr style=\"text-align: right;\">\n      <th></th>\n      <th>manufacturer_name</th>\n      <th>manufacturer_id</th>\n    </tr>\n  </thead>\n  <tbody>\n    <tr>\n      <th>0</th>\n      <td>Pfizer/BioNTech</td>\n      <td>PFZR</td>\n    </tr>\n    <tr>\n      <th>1</th>\n      <td>Sinovac</td>\n      <td>SNVC</td>\n    </tr>\n    <tr>\n      <th>2</th>\n      <td>Moderna</td>\n      <td>MDRN</td>\n    </tr>\n    <tr>\n      <th>3</th>\n      <td>Oxford/AstraZeneca</td>\n      <td>OXFD</td>\n    </tr>\n    <tr>\n      <th>4</th>\n      <td>Johnson&amp;Johnson</td>\n      <td>JSJS</td>\n    </tr>\n  </tbody>\n</table>\n</div>"
     },
     "metadata": {},
     "execution_count": 24
    }
   ],
   "source": [
    "manuf_df.head()"
   ]
  },
  {
   "cell_type": "code",
   "execution_count": 25,
   "metadata": {},
   "outputs": [
    {
     "output_type": "execute_result",
     "data": {
      "text/plain": [
       "  country        date manufacturer_id  total_vaccinations\n",
       "0   Chile  2020-12-24            PFZR                 420\n",
       "1   Chile  2020-12-25            PFZR                5198\n",
       "2   Chile  2020-12-26            PFZR                8338\n",
       "3   Chile  2020-12-27            PFZR                8649\n",
       "4   Chile  2020-12-28            PFZR                8649"
      ],
      "text/html": "<div>\n<style scoped>\n    .dataframe tbody tr th:only-of-type {\n        vertical-align: middle;\n    }\n\n    .dataframe tbody tr th {\n        vertical-align: top;\n    }\n\n    .dataframe thead th {\n        text-align: right;\n    }\n</style>\n<table border=\"1\" class=\"dataframe\">\n  <thead>\n    <tr style=\"text-align: right;\">\n      <th></th>\n      <th>country</th>\n      <th>date</th>\n      <th>manufacturer_id</th>\n      <th>total_vaccinations</th>\n    </tr>\n  </thead>\n  <tbody>\n    <tr>\n      <th>0</th>\n      <td>Chile</td>\n      <td>2020-12-24</td>\n      <td>PFZR</td>\n      <td>420</td>\n    </tr>\n    <tr>\n      <th>1</th>\n      <td>Chile</td>\n      <td>2020-12-25</td>\n      <td>PFZR</td>\n      <td>5198</td>\n    </tr>\n    <tr>\n      <th>2</th>\n      <td>Chile</td>\n      <td>2020-12-26</td>\n      <td>PFZR</td>\n      <td>8338</td>\n    </tr>\n    <tr>\n      <th>3</th>\n      <td>Chile</td>\n      <td>2020-12-27</td>\n      <td>PFZR</td>\n      <td>8649</td>\n    </tr>\n    <tr>\n      <th>4</th>\n      <td>Chile</td>\n      <td>2020-12-28</td>\n      <td>PFZR</td>\n      <td>8649</td>\n    </tr>\n  </tbody>\n</table>\n</div>"
     },
     "metadata": {},
     "execution_count": 25
    }
   ],
   "source": [
    "vax_man_df.head()\n"
   ]
  },
  {
   "cell_type": "code",
   "execution_count": 26,
   "metadata": {},
   "outputs": [
    {
     "output_type": "execute_result",
     "data": {
      "text/plain": [
       "        date      country  total_cases  active_cases  total_deaths\n",
       "0  2020-2-15  Afghanistan          0.0           0.0           0.0\n",
       "1  2020-2-16  Afghanistan          0.0           0.0           0.0\n",
       "2  2020-2-17  Afghanistan          0.0           0.0           0.0\n",
       "3  2020-2-18  Afghanistan          0.0           0.0           0.0\n",
       "4  2020-2-19  Afghanistan          0.0           0.0           0.0"
      ],
      "text/html": "<div>\n<style scoped>\n    .dataframe tbody tr th:only-of-type {\n        vertical-align: middle;\n    }\n\n    .dataframe tbody tr th {\n        vertical-align: top;\n    }\n\n    .dataframe thead th {\n        text-align: right;\n    }\n</style>\n<table border=\"1\" class=\"dataframe\">\n  <thead>\n    <tr style=\"text-align: right;\">\n      <th></th>\n      <th>date</th>\n      <th>country</th>\n      <th>total_cases</th>\n      <th>active_cases</th>\n      <th>total_deaths</th>\n    </tr>\n  </thead>\n  <tbody>\n    <tr>\n      <th>0</th>\n      <td>2020-2-15</td>\n      <td>Afghanistan</td>\n      <td>0.0</td>\n      <td>0.0</td>\n      <td>0.0</td>\n    </tr>\n    <tr>\n      <th>1</th>\n      <td>2020-2-16</td>\n      <td>Afghanistan</td>\n      <td>0.0</td>\n      <td>0.0</td>\n      <td>0.0</td>\n    </tr>\n    <tr>\n      <th>2</th>\n      <td>2020-2-17</td>\n      <td>Afghanistan</td>\n      <td>0.0</td>\n      <td>0.0</td>\n      <td>0.0</td>\n    </tr>\n    <tr>\n      <th>3</th>\n      <td>2020-2-18</td>\n      <td>Afghanistan</td>\n      <td>0.0</td>\n      <td>0.0</td>\n      <td>0.0</td>\n    </tr>\n    <tr>\n      <th>4</th>\n      <td>2020-2-19</td>\n      <td>Afghanistan</td>\n      <td>0.0</td>\n      <td>0.0</td>\n      <td>0.0</td>\n    </tr>\n  </tbody>\n</table>\n</div>"
     },
     "metadata": {},
     "execution_count": 26
    }
   ],
   "source": [
    "cases_df.head()"
   ]
  },
  {
   "cell_type": "code",
   "execution_count": 27,
   "metadata": {},
   "outputs": [
    {
     "output_type": "execute_result",
     "data": {
      "text/plain": [
       "       country  population\n",
       "0  Afghanistan    32890171\n",
       "1      Albania     2845955\n",
       "2      Algeria    44700000\n",
       "3      Andorra       78015\n",
       "4       Angola    32097671"
      ],
      "text/html": "<div>\n<style scoped>\n    .dataframe tbody tr th:only-of-type {\n        vertical-align: middle;\n    }\n\n    .dataframe tbody tr th {\n        vertical-align: top;\n    }\n\n    .dataframe thead th {\n        text-align: right;\n    }\n</style>\n<table border=\"1\" class=\"dataframe\">\n  <thead>\n    <tr style=\"text-align: right;\">\n      <th></th>\n      <th>country</th>\n      <th>population</th>\n    </tr>\n  </thead>\n  <tbody>\n    <tr>\n      <th>0</th>\n      <td>Afghanistan</td>\n      <td>32890171</td>\n    </tr>\n    <tr>\n      <th>1</th>\n      <td>Albania</td>\n      <td>2845955</td>\n    </tr>\n    <tr>\n      <th>2</th>\n      <td>Algeria</td>\n      <td>44700000</td>\n    </tr>\n    <tr>\n      <th>3</th>\n      <td>Andorra</td>\n      <td>78015</td>\n    </tr>\n    <tr>\n      <th>4</th>\n      <td>Angola</td>\n      <td>32097671</td>\n    </tr>\n  </tbody>\n</table>\n</div>"
     },
     "metadata": {},
     "execution_count": 27
    }
   ],
   "source": [
    "populations_df.head()"
   ]
  },
  {
   "source": [
    "# Adding Dataframes to Database"
   ],
   "cell_type": "markdown",
   "metadata": {}
  },
  {
   "cell_type": "code",
   "execution_count": 32,
   "metadata": {},
   "outputs": [],
   "source": [
    "rds_connection_string = f\"mdaxc6:databootcamp@coviddb.cgctrcdsmwc0.us-east-2.rds.amazonaws.com:5432/covid_db\"\n",
    "engine = create_engine(f'postgresql://{rds_connection_string}')"
   ]
  },
  {
   "cell_type": "code",
   "execution_count": 33,
   "metadata": {},
   "outputs": [],
   "source": [
    "populations_df.to_sql('countries', con=engine, if_exists='append', index=False)"
   ]
  },
  {
   "cell_type": "code",
   "execution_count": 37,
   "metadata": {},
   "outputs": [
    {
     "output_type": "execute_result",
     "data": {
      "text/plain": [
       "       country  population\n",
       "0  Afghanistan    32890171\n",
       "1      Albania     2845955\n",
       "2      Algeria    44700000\n",
       "3      Andorra       78015\n",
       "4       Angola    32097671"
      ],
      "text/html": "<div>\n<style scoped>\n    .dataframe tbody tr th:only-of-type {\n        vertical-align: middle;\n    }\n\n    .dataframe tbody tr th {\n        vertical-align: top;\n    }\n\n    .dataframe thead th {\n        text-align: right;\n    }\n</style>\n<table border=\"1\" class=\"dataframe\">\n  <thead>\n    <tr style=\"text-align: right;\">\n      <th></th>\n      <th>country</th>\n      <th>population</th>\n    </tr>\n  </thead>\n  <tbody>\n    <tr>\n      <th>0</th>\n      <td>Afghanistan</td>\n      <td>32890171</td>\n    </tr>\n    <tr>\n      <th>1</th>\n      <td>Albania</td>\n      <td>2845955</td>\n    </tr>\n    <tr>\n      <th>2</th>\n      <td>Algeria</td>\n      <td>44700000</td>\n    </tr>\n    <tr>\n      <th>3</th>\n      <td>Andorra</td>\n      <td>78015</td>\n    </tr>\n    <tr>\n      <th>4</th>\n      <td>Angola</td>\n      <td>32097671</td>\n    </tr>\n  </tbody>\n</table>\n</div>"
     },
     "metadata": {},
     "execution_count": 37
    }
   ],
   "source": [
    "pd.read_sql_query('select * from countries', con=engine).head()"
   ]
  },
  {
   "cell_type": "code",
   "execution_count": 38,
   "metadata": {},
   "outputs": [],
   "source": [
    "manuf_df.to_sql('manufacturer', con=engine, if_exists='append', index=False)"
   ]
  },
  {
   "cell_type": "code",
   "execution_count": 39,
   "metadata": {},
   "outputs": [
    {
     "output_type": "execute_result",
     "data": {
      "text/plain": [
       "  manufacturer_id   manufacturer_name\n",
       "0            PFZR     Pfizer/BioNTech\n",
       "1            SNVC             Sinovac\n",
       "2            MDRN             Moderna\n",
       "3            OXFD  Oxford/AstraZeneca\n",
       "4            JSJS     Johnson&Johnson"
      ],
      "text/html": "<div>\n<style scoped>\n    .dataframe tbody tr th:only-of-type {\n        vertical-align: middle;\n    }\n\n    .dataframe tbody tr th {\n        vertical-align: top;\n    }\n\n    .dataframe thead th {\n        text-align: right;\n    }\n</style>\n<table border=\"1\" class=\"dataframe\">\n  <thead>\n    <tr style=\"text-align: right;\">\n      <th></th>\n      <th>manufacturer_id</th>\n      <th>manufacturer_name</th>\n    </tr>\n  </thead>\n  <tbody>\n    <tr>\n      <th>0</th>\n      <td>PFZR</td>\n      <td>Pfizer/BioNTech</td>\n    </tr>\n    <tr>\n      <th>1</th>\n      <td>SNVC</td>\n      <td>Sinovac</td>\n    </tr>\n    <tr>\n      <th>2</th>\n      <td>MDRN</td>\n      <td>Moderna</td>\n    </tr>\n    <tr>\n      <th>3</th>\n      <td>OXFD</td>\n      <td>Oxford/AstraZeneca</td>\n    </tr>\n    <tr>\n      <th>4</th>\n      <td>JSJS</td>\n      <td>Johnson&amp;Johnson</td>\n    </tr>\n  </tbody>\n</table>\n</div>"
     },
     "metadata": {},
     "execution_count": 39
    }
   ],
   "source": [
    "pd.read_sql_query('select * from manufacturer', con=engine).head()"
   ]
  },
  {
   "cell_type": "code",
   "execution_count": 40,
   "metadata": {},
   "outputs": [],
   "source": [
    "vax_man_df.to_sql('vaccines', con=engine, if_exists='append', index=False)"
   ]
  },
  {
   "cell_type": "code",
   "execution_count": 41,
   "metadata": {},
   "outputs": [
    {
     "output_type": "execute_result",
     "data": {
      "text/plain": [
       "  country        date  total_vaccinations manufacturer_id\n",
       "0   Chile  2020-12-24                 420            PFZR\n",
       "1   Chile  2020-12-25                5198            PFZR\n",
       "2   Chile  2020-12-26                8338            PFZR\n",
       "3   Chile  2020-12-27                8649            PFZR\n",
       "4   Chile  2020-12-28                8649            PFZR"
      ],
      "text/html": "<div>\n<style scoped>\n    .dataframe tbody tr th:only-of-type {\n        vertical-align: middle;\n    }\n\n    .dataframe tbody tr th {\n        vertical-align: top;\n    }\n\n    .dataframe thead th {\n        text-align: right;\n    }\n</style>\n<table border=\"1\" class=\"dataframe\">\n  <thead>\n    <tr style=\"text-align: right;\">\n      <th></th>\n      <th>country</th>\n      <th>date</th>\n      <th>total_vaccinations</th>\n      <th>manufacturer_id</th>\n    </tr>\n  </thead>\n  <tbody>\n    <tr>\n      <th>0</th>\n      <td>Chile</td>\n      <td>2020-12-24</td>\n      <td>420</td>\n      <td>PFZR</td>\n    </tr>\n    <tr>\n      <th>1</th>\n      <td>Chile</td>\n      <td>2020-12-25</td>\n      <td>5198</td>\n      <td>PFZR</td>\n    </tr>\n    <tr>\n      <th>2</th>\n      <td>Chile</td>\n      <td>2020-12-26</td>\n      <td>8338</td>\n      <td>PFZR</td>\n    </tr>\n    <tr>\n      <th>3</th>\n      <td>Chile</td>\n      <td>2020-12-27</td>\n      <td>8649</td>\n      <td>PFZR</td>\n    </tr>\n    <tr>\n      <th>4</th>\n      <td>Chile</td>\n      <td>2020-12-28</td>\n      <td>8649</td>\n      <td>PFZR</td>\n    </tr>\n  </tbody>\n</table>\n</div>"
     },
     "metadata": {},
     "execution_count": 41
    }
   ],
   "source": [
    "pd.read_sql_query('select * from vaccines', con=engine).head()"
   ]
  },
  {
   "cell_type": "code",
   "execution_count": 42,
   "metadata": {},
   "outputs": [],
   "source": [
    "cases_df.to_sql('cases', con=engine, if_exists='append', index=False)"
   ]
  },
  {
   "cell_type": "code",
   "execution_count": 43,
   "metadata": {},
   "outputs": [
    {
     "output_type": "execute_result",
     "data": {
      "text/plain": [
       "       country        date  total_cases  active_cases  total_deaths\n",
       "0  Afghanistan  2020-02-15            0             0           0.0\n",
       "1  Afghanistan  2020-02-16            0             0           0.0\n",
       "2  Afghanistan  2020-02-17            0             0           0.0\n",
       "3  Afghanistan  2020-02-18            0             0           0.0\n",
       "4  Afghanistan  2020-02-19            0             0           0.0"
      ],
      "text/html": "<div>\n<style scoped>\n    .dataframe tbody tr th:only-of-type {\n        vertical-align: middle;\n    }\n\n    .dataframe tbody tr th {\n        vertical-align: top;\n    }\n\n    .dataframe thead th {\n        text-align: right;\n    }\n</style>\n<table border=\"1\" class=\"dataframe\">\n  <thead>\n    <tr style=\"text-align: right;\">\n      <th></th>\n      <th>country</th>\n      <th>date</th>\n      <th>total_cases</th>\n      <th>active_cases</th>\n      <th>total_deaths</th>\n    </tr>\n  </thead>\n  <tbody>\n    <tr>\n      <th>0</th>\n      <td>Afghanistan</td>\n      <td>2020-02-15</td>\n      <td>0</td>\n      <td>0</td>\n      <td>0.0</td>\n    </tr>\n    <tr>\n      <th>1</th>\n      <td>Afghanistan</td>\n      <td>2020-02-16</td>\n      <td>0</td>\n      <td>0</td>\n      <td>0.0</td>\n    </tr>\n    <tr>\n      <th>2</th>\n      <td>Afghanistan</td>\n      <td>2020-02-17</td>\n      <td>0</td>\n      <td>0</td>\n      <td>0.0</td>\n    </tr>\n    <tr>\n      <th>3</th>\n      <td>Afghanistan</td>\n      <td>2020-02-18</td>\n      <td>0</td>\n      <td>0</td>\n      <td>0.0</td>\n    </tr>\n    <tr>\n      <th>4</th>\n      <td>Afghanistan</td>\n      <td>2020-02-19</td>\n      <td>0</td>\n      <td>0</td>\n      <td>0.0</td>\n    </tr>\n  </tbody>\n</table>\n</div>"
     },
     "metadata": {},
     "execution_count": 43
    }
   ],
   "source": [
    "pd.read_sql_query('select * from cases', con=engine).head()"
   ]
  },
  {
   "cell_type": "code",
   "execution_count": null,
   "metadata": {},
   "outputs": [],
   "source": []
  }
 ]
}